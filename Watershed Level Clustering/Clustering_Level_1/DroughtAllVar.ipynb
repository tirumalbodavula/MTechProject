{
  "nbformat": 4,
  "nbformat_minor": 0,
  "metadata": {
    "colab": {
      "provenance": []
    },
    "kernelspec": {
      "name": "python3",
      "display_name": "Python 3"
    },
    "language_info": {
      "name": "python"
    }
  },
  "cells": [
    {
      "cell_type": "code",
      "execution_count": null,
      "metadata": {
        "colab": {
          "base_uri": "https://localhost:8080/"
        },
        "id": "INRvuFmxiT7z",
        "outputId": "420522e5-91d3-42a4-8642-18130c29f875"
      },
      "outputs": [
        {
          "output_type": "stream",
          "name": "stdout",
          "text": [
            "Requirement already satisfied: geopandas in /usr/local/lib/python3.10/dist-packages (0.13.2)\n",
            "Requirement already satisfied: fiona>=1.8.19 in /usr/local/lib/python3.10/dist-packages (from geopandas) (1.9.5)\n",
            "Requirement already satisfied: packaging in /usr/local/lib/python3.10/dist-packages (from geopandas) (23.2)\n",
            "Requirement already satisfied: pandas>=1.1.0 in /usr/local/lib/python3.10/dist-packages (from geopandas) (1.5.3)\n",
            "Requirement already satisfied: pyproj>=3.0.1 in /usr/local/lib/python3.10/dist-packages (from geopandas) (3.6.1)\n",
            "Requirement already satisfied: shapely>=1.7.1 in /usr/local/lib/python3.10/dist-packages (from geopandas) (2.0.3)\n",
            "Requirement already satisfied: attrs>=19.2.0 in /usr/local/lib/python3.10/dist-packages (from fiona>=1.8.19->geopandas) (23.2.0)\n",
            "Requirement already satisfied: certifi in /usr/local/lib/python3.10/dist-packages (from fiona>=1.8.19->geopandas) (2024.2.2)\n",
            "Requirement already satisfied: click~=8.0 in /usr/local/lib/python3.10/dist-packages (from fiona>=1.8.19->geopandas) (8.1.7)\n",
            "Requirement already satisfied: click-plugins>=1.0 in /usr/local/lib/python3.10/dist-packages (from fiona>=1.8.19->geopandas) (1.1.1)\n",
            "Requirement already satisfied: cligj>=0.5 in /usr/local/lib/python3.10/dist-packages (from fiona>=1.8.19->geopandas) (0.7.2)\n",
            "Requirement already satisfied: six in /usr/local/lib/python3.10/dist-packages (from fiona>=1.8.19->geopandas) (1.16.0)\n",
            "Requirement already satisfied: setuptools in /usr/local/lib/python3.10/dist-packages (from fiona>=1.8.19->geopandas) (67.7.2)\n",
            "Requirement already satisfied: python-dateutil>=2.8.1 in /usr/local/lib/python3.10/dist-packages (from pandas>=1.1.0->geopandas) (2.8.2)\n",
            "Requirement already satisfied: pytz>=2020.1 in /usr/local/lib/python3.10/dist-packages (from pandas>=1.1.0->geopandas) (2023.4)\n",
            "Requirement already satisfied: numpy>=1.21.0 in /usr/local/lib/python3.10/dist-packages (from pandas>=1.1.0->geopandas) (1.25.2)\n"
          ]
        }
      ],
      "source": [
        "!pip install geopandas"
      ]
    },
    {
      "cell_type": "code",
      "source": [
        "import pandas as pd\n",
        "import matplotlib.pyplot as plt\n",
        "import matplotlib.ticker as ticker\n",
        "import matplotlib.patches as mpatches\n",
        "import geopandas as gpd\n",
        "from google.colab import drive\n",
        "drive.mount('/content/drive')"
      ],
      "metadata": {
        "colab": {
          "base_uri": "https://localhost:8080/"
        },
        "id": "whEqJLO7idAp",
        "outputId": "6336f989-1f68-49d7-a80f-6755952a4580"
      },
      "execution_count": null,
      "outputs": [
        {
          "output_type": "stream",
          "name": "stdout",
          "text": [
            "Mounted at /content/drive\n"
          ]
        }
      ]
    },
    {
      "cell_type": "code",
      "source": [
        "# block_name = 'Mohanpur'\n",
        "block_name = 'Pindwara'\n",
        "shp_path =  f'/content/drive/MyDrive/drought_modisv2/{block_name}.shp'\n",
        "gdf = gpd.read_file(shp_path)\n",
        "# print(gdf.head(10))\n",
        "block_name = 'Pindwara10'\n",
        "filepathPrefix = f'/content/drive/MyDrive/drought_modis_mask/{block_name}_'\n",
        "\n",
        "vcibins = [-1.0, 40.0, 60.0, 100.0]\n",
        "vcilabels = ['poor', 'fair', 'good']\n",
        "\n",
        "maibins = [-1.0, 25.0, 50.0, 100.0]\n",
        "mailabels = ['severe', 'moderate', 'mild']\n",
        "\n",
        "casbins = [-1.0, 33.3, 66.6, 100.0]\n",
        "caslabels = ['poor', 'fair', 'good']\n",
        "\n",
        "spibins = [-1000.0, -2.0, -1.5, -1.0, 0.0, 1.0, 1.5, 2.0, 1000.0 ]\n",
        "spilabels = ['extremelyDry', 'severelyDry', 'moderatelyDry', 'mildlyDry', 'mildlyWet', 'moderatelyWet', 'severelyWet', 'extremelyWet' ]\n",
        "\n",
        "\n",
        "for year in range(2003,2023):\n",
        "  finpath = filepathPrefix + str(year) + \".csv\"\n",
        "  df = pd.read_csv(finpath)\n",
        "\n",
        "  ##Meterological Drought START\n",
        "  mDrought=0\n",
        "  mDroughtCols = [col for col in df.columns if 'meteorological_drought' in col]\n",
        "\n",
        "  df[f'mDrought_{year}'] = df[mDroughtCols].sum(axis=1)\n",
        "\n",
        "  ##DrySPells START\n",
        "  drySpells=0\n",
        "  drySpellsCols = [col for col in df.columns if 'dryspell' in col]\n",
        "  df[f'drySpells_{year}'] = df[drySpellsCols].sum(axis=1)\n",
        "\n",
        "  ##Cropping Area Sown in Kharif\n",
        "  df[f'cas_{year}_mode']=0\n",
        "  for index, row in df.iterrows():\n",
        "    val = df.at[index,f'percent_of_area_cropped_kharif_{year}']\n",
        "    if(val<=33.3):\n",
        "      df.at[index ,f'cas_{year}_mode']=3\n",
        "    elif (val<=66.6):\n",
        "      df.at[index ,f'cas_{year}_mode']=2\n",
        "    else:\n",
        "      df.at[index ,f'cas_{year}_mode']=1\n",
        "\n",
        "  ##VCI START\n",
        "  vciCols = [col for col in df.columns if 'vci' in col]\n",
        "  for l in vcilabels:\n",
        "    df[f'vci_{year}_{l}']=0\n",
        "\n",
        "  for index, row in df.iterrows():\n",
        "      for col in vciCols:\n",
        "          vci_value = row[col]\n",
        "          category = pd.cut([vci_value], bins=vcibins, labels=vcilabels)[0]\n",
        "          df.at[index, f'vci_{year}_{category}'] += 1\n",
        "\n",
        "  df[f'vci_{year}_mode']=0\n",
        "  for index, row in df.iterrows():\n",
        "    templ=[]\n",
        "    i=1\n",
        "    for l in vcilabels[::-1]:\n",
        "      templ.append([df.at[index , f'vci_{year}_{l}'],i])\n",
        "      i+=1\n",
        "    templ.sort()\n",
        "    df.at[index ,f'vci_{year}_mode']=templ[-1][1]\n",
        "\n",
        "\n",
        "  ##MAI START\n",
        "  maiCols = [col for col in df.columns if 'mai' in col]\n",
        "  for l in mailabels:\n",
        "    df[f'mai_{year}_{l}']=0\n",
        "  for index, row in df.iterrows():\n",
        "      for col in maiCols:\n",
        "          mai_value = row[col]\n",
        "          category = pd.cut([mai_value], bins=maibins, labels=mailabels)[0]\n",
        "          df.at[index, f'mai_{year}_{category}'] += 1\n",
        "\n",
        "  df[f'mai_{year}_mode']=0\n",
        "  for index, row in df.iterrows():\n",
        "    templ=[]\n",
        "    i=1\n",
        "    for l in mailabels[::-1]:\n",
        "      # print(l)\n",
        "      templ.append([df.at[index , f'mai_{year}_{l}'],i])\n",
        "      i+=1\n",
        "    templ.sort()\n",
        "    df.at[index ,f'mai_{year}_mode']=templ[-1][1]\n",
        "\n",
        "\n",
        "\n",
        "  ##SPI START\n",
        "  spiCols = [col for col in df.columns if 'spi' in col]\n",
        "  for l in spilabels:\n",
        "    df[f'spi_{year}_{l}']=0\n",
        "  for index, row in df.iterrows():\n",
        "      for col in spiCols:\n",
        "          spi_value = row[col]\n",
        "          category = pd.cut([spi_value], bins=spibins, labels=spilabels)[0]\n",
        "          df.at[index, f'spi_{year}_{category}'] += 1\n",
        "\n",
        "# ['extremelyDry', 'severelyDry', 'moderatelyDry', 'mildlyDry', 'mildlyWet', 'moderatelyWet', 'severelyWet', 'extremelyWet' ]\n",
        "  df[f'spi_{year}_mode']=0\n",
        "  for index, row in df.iterrows():\n",
        "    templ=[]\n",
        "    i=1\n",
        "    for l in spilabels[::-1]:\n",
        "      templ.append([df.at[index , f'spi_{year}_{l}'],i])\n",
        "      i+=1\n",
        "    templ.sort()\n",
        "    df.at[index ,f'spi_{year}_mode']=templ[-1][1]\n",
        "\n",
        "\n",
        "  # print(len(mDroughtCols))\n",
        "  # print(len(drySpellsCols))\n",
        "  # print(len(vciCols))\n",
        "  # print(len(maiCols))\n",
        "  # print(len(spiCols))\n",
        "  gdf = pd.merge(gdf,df, on='uid', how='left')\n",
        "\n",
        "# print(gdf.columns.tolist)\n",
        "\n",
        "# print(gdf[['vci_2003_good','vci_2003_fair', 'vci_2003_poor', 'mDrought_2003', 'drySpells_2003',\n",
        "#            'mai_2003_no', 'mai_2003_mild', 'mai_2003_moderate', 'mai_2003_severe',\n",
        "#            'spi_2003_extremelyDry', 'spi_2003_severelyDry', 'spi_2003_moderatelyDry', 'spi_2003_mildlyDry',\n",
        "#            'spi_2003_mildlyWet', 'spi_2003_moderatelyWet', 'spi_2003_severelyWet', 'spi_2003_extremelyWet'\n",
        "#            ]])\n"
      ],
      "metadata": {
        "colab": {
          "base_uri": "https://localhost:8080/"
        },
        "id": "JEGjIiOFihrw",
        "outputId": "19adc2fe-defe-4e5c-956f-df0a0d18503d"
      },
      "execution_count": null,
      "outputs": [
        {
          "output_type": "stream",
          "name": "stderr",
          "text": [
            "<ipython-input-4-3ec580795148>:120: FutureWarning: Passing 'suffixes' which cause duplicate columns {'id_x', 'area_in_ha_x'} in the result is deprecated and will raise a MergeError in a future version.\n",
            "  gdf = pd.merge(gdf,df, on='uid', how='left')\n",
            "<ipython-input-4-3ec580795148>:120: FutureWarning: Passing 'suffixes' which cause duplicate columns {'.geo_x', 'system:index_x', 'kharif_croppable_sqkm_x'} in the result is deprecated and will raise a MergeError in a future version.\n",
            "  gdf = pd.merge(gdf,df, on='uid', how='left')\n",
            "<ipython-input-4-3ec580795148>:120: FutureWarning: Passing 'suffixes' which cause duplicate columns {'id_x', 'area_in_ha_x'} in the result is deprecated and will raise a MergeError in a future version.\n",
            "  gdf = pd.merge(gdf,df, on='uid', how='left')\n",
            "<ipython-input-4-3ec580795148>:120: FutureWarning: Passing 'suffixes' which cause duplicate columns {'.geo_x', 'system:index_x', 'kharif_croppable_sqkm_x'} in the result is deprecated and will raise a MergeError in a future version.\n",
            "  gdf = pd.merge(gdf,df, on='uid', how='left')\n",
            "<ipython-input-4-3ec580795148>:120: FutureWarning: Passing 'suffixes' which cause duplicate columns {'id_x', 'area_in_ha_x'} in the result is deprecated and will raise a MergeError in a future version.\n",
            "  gdf = pd.merge(gdf,df, on='uid', how='left')\n",
            "<ipython-input-4-3ec580795148>:120: FutureWarning: Passing 'suffixes' which cause duplicate columns {'.geo_x', 'system:index_x', 'kharif_croppable_sqkm_x'} in the result is deprecated and will raise a MergeError in a future version.\n",
            "  gdf = pd.merge(gdf,df, on='uid', how='left')\n",
            "<ipython-input-4-3ec580795148>:120: FutureWarning: Passing 'suffixes' which cause duplicate columns {'id_x', 'area_in_ha_x'} in the result is deprecated and will raise a MergeError in a future version.\n",
            "  gdf = pd.merge(gdf,df, on='uid', how='left')\n",
            "<ipython-input-4-3ec580795148>:120: FutureWarning: Passing 'suffixes' which cause duplicate columns {'.geo_x', 'system:index_x', 'kharif_croppable_sqkm_x'} in the result is deprecated and will raise a MergeError in a future version.\n",
            "  gdf = pd.merge(gdf,df, on='uid', how='left')\n",
            "<ipython-input-4-3ec580795148>:120: FutureWarning: Passing 'suffixes' which cause duplicate columns {'id_x', 'area_in_ha_x'} in the result is deprecated and will raise a MergeError in a future version.\n",
            "  gdf = pd.merge(gdf,df, on='uid', how='left')\n",
            "<ipython-input-4-3ec580795148>:120: FutureWarning: Passing 'suffixes' which cause duplicate columns {'.geo_x', 'system:index_x', 'kharif_croppable_sqkm_x'} in the result is deprecated and will raise a MergeError in a future version.\n",
            "  gdf = pd.merge(gdf,df, on='uid', how='left')\n",
            "<ipython-input-4-3ec580795148>:120: FutureWarning: Passing 'suffixes' which cause duplicate columns {'id_x', 'area_in_ha_x'} in the result is deprecated and will raise a MergeError in a future version.\n",
            "  gdf = pd.merge(gdf,df, on='uid', how='left')\n",
            "<ipython-input-4-3ec580795148>:120: FutureWarning: Passing 'suffixes' which cause duplicate columns {'.geo_x', 'system:index_x', 'kharif_croppable_sqkm_x'} in the result is deprecated and will raise a MergeError in a future version.\n",
            "  gdf = pd.merge(gdf,df, on='uid', how='left')\n",
            "<ipython-input-4-3ec580795148>:120: FutureWarning: Passing 'suffixes' which cause duplicate columns {'id_x', 'area_in_ha_x'} in the result is deprecated and will raise a MergeError in a future version.\n",
            "  gdf = pd.merge(gdf,df, on='uid', how='left')\n",
            "<ipython-input-4-3ec580795148>:120: FutureWarning: Passing 'suffixes' which cause duplicate columns {'.geo_x', 'system:index_x', 'kharif_croppable_sqkm_x'} in the result is deprecated and will raise a MergeError in a future version.\n",
            "  gdf = pd.merge(gdf,df, on='uid', how='left')\n",
            "<ipython-input-4-3ec580795148>:120: FutureWarning: Passing 'suffixes' which cause duplicate columns {'id_x', 'area_in_ha_x'} in the result is deprecated and will raise a MergeError in a future version.\n",
            "  gdf = pd.merge(gdf,df, on='uid', how='left')\n",
            "<ipython-input-4-3ec580795148>:120: FutureWarning: Passing 'suffixes' which cause duplicate columns {'.geo_x', 'system:index_x', 'kharif_croppable_sqkm_x'} in the result is deprecated and will raise a MergeError in a future version.\n",
            "  gdf = pd.merge(gdf,df, on='uid', how='left')\n",
            "<ipython-input-4-3ec580795148>:120: FutureWarning: Passing 'suffixes' which cause duplicate columns {'id_x', 'area_in_ha_x'} in the result is deprecated and will raise a MergeError in a future version.\n",
            "  gdf = pd.merge(gdf,df, on='uid', how='left')\n",
            "<ipython-input-4-3ec580795148>:120: FutureWarning: Passing 'suffixes' which cause duplicate columns {'.geo_x', 'system:index_x', 'kharif_croppable_sqkm_x'} in the result is deprecated and will raise a MergeError in a future version.\n",
            "  gdf = pd.merge(gdf,df, on='uid', how='left')\n"
          ]
        }
      ]
    },
    {
      "cell_type": "code",
      "source": [
        "# Just for Creating CSV\n",
        "gdf.to_csv(f'/content/drive/MyDrive/drought_modis_mask/{block_name}_allvar.csv', index=False)"
      ],
      "metadata": {
        "id": "bo2_6t-Vj0pW"
      },
      "execution_count": null,
      "outputs": []
    },
    {
      "cell_type": "code",
      "source": [],
      "metadata": {
        "id": "2M0xAgzaj6cK"
      },
      "execution_count": null,
      "outputs": []
    }
  ]
}