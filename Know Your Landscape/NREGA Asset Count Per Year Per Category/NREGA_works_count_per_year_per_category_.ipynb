{
  "nbformat": 4,
  "nbformat_minor": 0,
  "metadata": {
    "colab": {
      "provenance": []
    },
    "kernelspec": {
      "name": "python3",
      "display_name": "Python 3"
    },
    "language_info": {
      "name": "python"
    }
  },
  "cells": [
    {
      "cell_type": "code",
      "source": [
        "from google.colab import drive\n",
        "drive.mount('/content/drive')"
      ],
      "metadata": {
        "colab": {
          "base_uri": "https://localhost:8080/"
        },
        "id": "NZobTs_3GpWc",
        "outputId": "22f1b4d3-1274-4982-d1da-504304a4ceaf"
      },
      "execution_count": null,
      "outputs": [
        {
          "output_type": "stream",
          "name": "stdout",
          "text": [
            "Mounted at /content/drive\n"
          ]
        }
      ]
    },
    {
      "cell_type": "code",
      "source": [
        "import pandas as pd"
      ],
      "metadata": {
        "id": "-uoLoqR6GtwH"
      },
      "execution_count": null,
      "outputs": []
    },
    {
      "cell_type": "code",
      "source": [
        "import warnings\n",
        "warnings.filterwarnings('ignore')"
      ],
      "metadata": {
        "id": "hjGy1_6ikoEN"
      },
      "execution_count": null,
      "outputs": []
    },
    {
      "cell_type": "code",
      "source": [
        "output = {}\n",
        "# years = [2016, 2017, 2018, 2019, 2020, 2021, 2022]\n",
        "categories = ['Irrigation - Site level impact', 'SWC - Landscape level impact', 'Plantation', 'Household Livelihood', 'Agri Impact - HH,  Community', 'Others - HH, Community', 'Irrigation Site level - Non RWH', 'Un Identified']\n",
        "for category in categories:\n",
        "  for year in years:\n",
        "    output[f\"{category}_{year}\"] = []\n",
        "  output[f\"{category}_unknown\"] = []\n",
        "  output[f\"{category}_before_2016\"] = []\n",
        "\n",
        "output = pd.DataFrame(output)\n",
        "for i in range(0, size):\n",
        "  uid = f\"{block_name}_{i}\"\n",
        "  row = {'uid' : uid }\n",
        "  for category in categories:\n",
        "    for year in years:\n",
        "      filtered_df = df[(df['uid']==uid)&(df['year']==year)&(df['WorkCategory']==category)]\n",
        "      row[f\"{category}_{year}\"] = filtered_df.shape[0]\n",
        "      if(filtered_df.shape[0]>0): print(uid, category, year)\n",
        "    filtered_df = df[(df['uid']==uid)&(df['year']<2016)&(df['WorkCategory']==category)&(df['year']!=1888)]\n",
        "    row[f\"{category}_before_2016\"] = filtered_df.shape[0]\n",
        "    if(filtered_df.shape[0]>0): print(uid, category, year)\n",
        "    filtered_df = df[(df['uid']==uid)&(df['WorkCategory']==category)&(df['year']==1888)]\n",
        "    row[f\"{category}_unknown\"] = filtered_df.shape[0]\n",
        "    if(filtered_df.shape[0]>0): print(uid, category, year)\n",
        "  # print(row)\n",
        "  output = output.append(row, ignore_index=True)"
      ],
      "metadata": {
        "id": "muZzoKwXdnT0"
      },
      "execution_count": null,
      "outputs": []
    },
    {
      "cell_type": "code",
      "source": [
        "# output"
      ],
      "metadata": {
        "id": "W2RiHaaAfAc3"
      },
      "execution_count": null,
      "outputs": []
    },
    {
      "cell_type": "code",
      "source": [
        "output.to_csv(f\"{block_name}_output.csv\", index=False)"
      ],
      "metadata": {
        "id": "I0Dj8zBwfuqJ"
      },
      "execution_count": null,
      "outputs": []
    },
    {
      "cell_type": "code",
      "source": [
        "from google.colab import drive\n",
        "drive.mount('/content/drive')"
      ],
      "metadata": {
        "id": "qS8lCCxsH7e-"
      },
      "execution_count": null,
      "outputs": []
    },
    {
      "cell_type": "code",
      "source": [
        "import pandas as pd"
      ],
      "metadata": {
        "id": "esckDmZxH78E"
      },
      "execution_count": null,
      "outputs": []
    },
    {
      "cell_type": "code",
      "source": [
        "import warnings\n",
        "warnings.filterwarnings('ignore')"
      ],
      "metadata": {
        "id": "XLFfnN4BIH-F"
      },
      "execution_count": null,
      "outputs": []
    },
    {
      "cell_type": "code",
      "source": [
        "import os\n",
        "# output_dir = os.getcwd()\n",
        "# os.listdir('/content/drive/MyDrive/MINOR-PROJECT/')\n",
        "# os.mkdir('/content/drive/MyDrive/MINOR-PROJECT/NREGA-OUTPUTS')\n",
        "output_dir = '/content/drive/MyDrive/MINOR-PROJECT/NREGA-OUTPUTS'"
      ],
      "metadata": {
        "id": "kr4mIVJUH48c"
      },
      "execution_count": null,
      "outputs": []
    },
    {
      "cell_type": "code",
      "source": [
        "def foo(block_name, size):\n",
        "  df = pd.read_csv(f'/content/drive/MyDrive/{block_name}_nrega_works.csv')\n",
        "  output = {}\n",
        "  years = [year for year in range(2005, 2023)]\n",
        "  categories = ['Irrigation - Site level impact', 'SWC - Landscape level impact', 'Plantation', 'Household Livelihood', 'Agri Impact - HH,  Community', 'Others - HH, Community', 'Irrigation Site level - Non RWH', 'Un Identified']\n",
        "  for category in categories:\n",
        "    for year in years:\n",
        "      output[f\"{category}_{year}\"] = []\n",
        "    output[f\"{category}_unknown\"] = []\n",
        "\n",
        "  output = pd.DataFrame(output)\n",
        "  for i in range(0, size):\n",
        "    uid = f\"{block_name}_{i}\"\n",
        "    row = {'uid' : uid }\n",
        "    for category in categories:\n",
        "      for year in years:\n",
        "        filtered_df = df[(df['uid']==uid)&(df['year']==year)&(df['WorkCategory']==category)]\n",
        "        row[f\"{category}_{year}\"] = filtered_df.shape[0]\n",
        "        if(filtered_df.shape[0]>0): print(uid, category, year)\n",
        "      filtered_df = df[(df['uid']==uid)&(df['year']<2016)&(df['WorkCategory']==category)&(df['year']!=1888)]\n",
        "      row[f\"{category}_before_2016\"] = filtered_df.shape[0]\n",
        "      if(filtered_df.shape[0]>0): print(uid, category, year)\n",
        "      filtered_df = df[(df['uid']==uid)&(df['WorkCategory']==category)&(df['year']==1888)]\n",
        "      row[f\"{category}_unknown\"] = filtered_df.shape[0]\n",
        "      if(filtered_df.shape[0]>0): print(uid, category, year)\n",
        "    # print(row)\n",
        "    output = output.append(row, ignore_index=True)\n",
        "    output.to_csv(f\"{output_dir}/{block_name}_output.csv\", index=False)"
      ],
      "metadata": {
        "id": "jeJUxvFijxqe"
      },
      "execution_count": null,
      "outputs": []
    },
    {
      "cell_type": "code",
      "source": [
        "block_names = [\n",
        "    ('Pindwara', 549),\n",
        "    ('Mandalgarh', 386),\n",
        "    ('Mohanpur', 128),\n",
        "    ('Masalia', 666),\n",
        "    ('Angul', 91)\n",
        "]\n",
        "\n",
        "for block_name, size in block_names:\n",
        "  foo(block_name, size)"
      ],
      "metadata": {
        "id": "bhP49wSZF7aS"
      },
      "execution_count": null,
      "outputs": []
    },
    {
      "cell_type": "code",
      "source": [],
      "metadata": {
        "id": "0jyPR9c2Ic__"
      },
      "execution_count": null,
      "outputs": []
    }
  ]
}